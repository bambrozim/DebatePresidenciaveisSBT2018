{
 "cells": [
  {
   "cell_type": "markdown",
   "metadata": {},
   "source": [
    "# Debate dos Presidenciáveis na SBT - 2018"
   ]
  },
  {
   "cell_type": "markdown",
   "metadata": {},
   "source": [
    "O debate ocorreu das 17h45 até 19h20 do dia 26 de Setembro de 2018 com a presença dos seguintes presidenciáveis:\n",
    "- Alvaro Dias (Podemos)\n",
    "- Cabo Daciolo (Patriota)\n",
    "- Ciro Gomes (PDT)\n",
    "- Fernando Haddad (PT)\n",
    "- Geraldo Alckmin (PSDB)\n",
    "- Guilherme Boulos (PSOL)\n",
    "- Henrique Meirelles (MDB)\n",
    "- Marina Silva (Rede)\n",
    "\n",
    "O candidato Jair Bolsonaro (PSL) foi convidado, porém não compareceu ao debate, seu nome foi considerado nesta pesquisa assim como o nome do candidato João Amoedo (Novo) que apesar de não ser convidado para os debates detém de um percentual de votos considerável.\n",
    "***"
   ]
  },
  {
   "cell_type": "code",
   "execution_count": 1,
   "metadata": {},
   "outputs": [
    {
     "name": "stderr",
     "output_type": "stream",
     "text": [
      "D:\\Anaconda\\lib\\importlib\\_bootstrap.py:219: RuntimeWarning: numpy.dtype size changed, may indicate binary incompatibility. Expected 96, got 88\n",
      "  return f(*args, **kwds)\n",
      "D:\\Anaconda\\lib\\importlib\\_bootstrap.py:219: RuntimeWarning: numpy.ufunc size changed, may indicate binary incompatibility. Expected 192, got 176\n",
      "  return f(*args, **kwds)\n",
      "D:\\Anaconda\\lib\\importlib\\_bootstrap.py:219: RuntimeWarning: numpy.dtype size changed, may indicate binary incompatibility. Expected 96, got 88\n",
      "  return f(*args, **kwds)\n",
      "D:\\Anaconda\\lib\\importlib\\_bootstrap.py:219: RuntimeWarning: numpy.ufunc size changed, may indicate binary incompatibility. Expected 192, got 176\n",
      "  return f(*args, **kwds)\n"
     ]
    }
   ],
   "source": [
    "import pandas as pd\n",
    "import numpy as np\n",
    "\n",
    "import matplotlib.pyplot as plt\n",
    "import seaborn as sns\n",
    "%matplotlib inline\n",
    "\n",
    "import spacy"
   ]
  },
  {
   "cell_type": "code",
   "execution_count": 2,
   "metadata": {},
   "outputs": [],
   "source": [
    "pd.set_option('display.max_rows', 200_000)\n",
    "pd.set_option('display.max_columns', 500)\n",
    "pd.set_option('display.max_colwidth', 2_500)"
   ]
  },
  {
   "cell_type": "code",
   "execution_count": 10,
   "metadata": {},
   "outputs": [
    {
     "name": "stderr",
     "output_type": "stream",
     "text": [
      "D:\\Anaconda\\lib\\importlib\\_bootstrap.py:219: RuntimeWarning: numpy.dtype size changed, may indicate binary incompatibility. Expected 96, got 88\n",
      "  return f(*args, **kwds)\n",
      "D:\\Anaconda\\lib\\importlib\\_bootstrap.py:219: RuntimeWarning: numpy.ufunc size changed, may indicate binary incompatibility. Expected 192, got 176\n",
      "  return f(*args, **kwds)\n"
     ]
    }
   ],
   "source": [
    "nlp = spacy.load('pt')"
   ]
  },
  {
   "cell_type": "code",
   "execution_count": 11,
   "metadata": {},
   "outputs": [],
   "source": [
    "nlp.max_length = 3_000_000"
   ]
  },
  {
   "cell_type": "code",
   "execution_count": 3,
   "metadata": {},
   "outputs": [
    {
     "data": {
      "text/html": [
       "<div>\n",
       "<style scoped>\n",
       "    .dataframe tbody tr th:only-of-type {\n",
       "        vertical-align: middle;\n",
       "    }\n",
       "\n",
       "    .dataframe tbody tr th {\n",
       "        vertical-align: top;\n",
       "    }\n",
       "\n",
       "    .dataframe thead th {\n",
       "        text-align: right;\n",
       "    }\n",
       "</style>\n",
       "<table border=\"1\" class=\"dataframe\">\n",
       "  <thead>\n",
       "    <tr style=\"text-align: right;\">\n",
       "      <th></th>\n",
       "      <th>text</th>\n",
       "      <th>hour</th>\n",
       "      <th>minute</th>\n",
       "      <th>second</th>\n",
       "      <th>day</th>\n",
       "      <th>month</th>\n",
       "      <th>year</th>\n",
       "      <th>datetime</th>\n",
       "      <th>text_clean</th>\n",
       "    </tr>\n",
       "  </thead>\n",
       "  <tbody>\n",
       "    <tr>\n",
       "      <th>0</th>\n",
       "      <td>\"foda-se a eleição, eu quero ver o jogo porrraaaaaaaaaaaaaaaaaaaaaaaaaaaaaaaaaaaaaaaaaaaaaaaaaaaaaaaaaaaaaaaaaaaaaaaaaaa\" - Álvaro Dias</td>\n",
       "      <td>19</td>\n",
       "      <td>24</td>\n",
       "      <td>23</td>\n",
       "      <td>26</td>\n",
       "      <td>9</td>\n",
       "      <td>2018</td>\n",
       "      <td>2018-09-26 19:24:23</td>\n",
       "      <td>\" foder - o eleição , querer o jogar porrraaaaaaaaaaaaaaaaaaaaaaaaaaaaaaaaaaaaaaaaaaaaaaaaaaaaaaaaaaaaaaaaaaaaaaaaaaa \" - álvaro</td>\n",
       "    </tr>\n",
       "    <tr>\n",
       "      <th>1</th>\n",
       "      <td>MANO O DACIOLO É FODA GLÓRIA DEUS</td>\n",
       "      <td>19</td>\n",
       "      <td>12</td>\n",
       "      <td>45</td>\n",
       "      <td>26</td>\n",
       "      <td>9</td>\n",
       "      <td>2018</td>\n",
       "      <td>2018-09-26 19:12:45</td>\n",
       "      <td>manir o daciolo foder glória deus</td>\n",
       "    </tr>\n",
       "    <tr>\n",
       "      <th>2</th>\n",
       "      <td>Porra Daciolo eu tinha até me emocionado com a declaração pra mamãe e esposa, agora tu mete essa de voto impresso meu consagrado? #DebateSBT</td>\n",
       "      <td>19</td>\n",
       "      <td>13</td>\n",
       "      <td>41</td>\n",
       "      <td>26</td>\n",
       "      <td>9</td>\n",
       "      <td>2018</td>\n",
       "      <td>2018-09-26 19:13:41</td>\n",
       "      <td>porra daciolo emocionar o declaração pra mamãe e esposo , meter votar impresso consagrar ? # debatesbt</td>\n",
       "    </tr>\n",
       "    <tr>\n",
       "      <th>3</th>\n",
       "      <td>Daciolo falou pouco, mas falou bonito...</td>\n",
       "      <td>18</td>\n",
       "      <td>37</td>\n",
       "      <td>45</td>\n",
       "      <td>26</td>\n",
       "      <td>9</td>\n",
       "      <td>2018</td>\n",
       "      <td>2018-09-26 18:37:45</td>\n",
       "      <td>daciolo falar , falar bonito ...</td>\n",
       "    </tr>\n",
       "    <tr>\n",
       "      <th>4</th>\n",
       "      <td>@morgalashnikova Eu n valorizei a grandeza desse candidato antes, mas agora eu percebi meu engano. 51 é só coisa boa, pinga e Daciolo</td>\n",
       "      <td>19</td>\n",
       "      <td>12</td>\n",
       "      <td>20</td>\n",
       "      <td>26</td>\n",
       "      <td>9</td>\n",
       "      <td>2018</td>\n",
       "      <td>2018-09-26 19:12:20</td>\n",
       "      <td>@morgalashnikova n valorizar o grandeza d candidatar antar , perceber enganir . 51 só , pingar e daciolo</td>\n",
       "    </tr>\n",
       "  </tbody>\n",
       "</table>\n",
       "</div>"
      ],
      "text/plain": [
       "                                                                                                                                           text  \\\n",
       "0       \"foda-se a eleição, eu quero ver o jogo porrraaaaaaaaaaaaaaaaaaaaaaaaaaaaaaaaaaaaaaaaaaaaaaaaaaaaaaaaaaaaaaaaaaaaaaaaaaa\" - Álvaro Dias   \n",
       "1                                                                                                             MANO O DACIOLO É FODA GLÓRIA DEUS   \n",
       "2  Porra Daciolo eu tinha até me emocionado com a declaração pra mamãe e esposa, agora tu mete essa de voto impresso meu consagrado? #DebateSBT   \n",
       "3                                                                                                      Daciolo falou pouco, mas falou bonito...   \n",
       "4         @morgalashnikova Eu n valorizei a grandeza desse candidato antes, mas agora eu percebi meu engano. 51 é só coisa boa, pinga e Daciolo   \n",
       "\n",
       "   hour  minute  second  day  month  year             datetime  \\\n",
       "0    19      24      23   26      9  2018  2018-09-26 19:24:23   \n",
       "1    19      12      45   26      9  2018  2018-09-26 19:12:45   \n",
       "2    19      13      41   26      9  2018  2018-09-26 19:13:41   \n",
       "3    18      37      45   26      9  2018  2018-09-26 18:37:45   \n",
       "4    19      12      20   26      9  2018  2018-09-26 19:12:20   \n",
       "\n",
       "                                                                                                                         text_clean  \n",
       "0  \" foder - o eleição , querer o jogar porrraaaaaaaaaaaaaaaaaaaaaaaaaaaaaaaaaaaaaaaaaaaaaaaaaaaaaaaaaaaaaaaaaaaaaaaaaaa \" - álvaro  \n",
       "1                                                                                                 manir o daciolo foder glória deus  \n",
       "2                            porra daciolo emocionar o declaração pra mamãe e esposo , meter votar impresso consagrar ? # debatesbt  \n",
       "3                                                                                                  daciolo falar , falar bonito ...  \n",
       "4                          @morgalashnikova n valorizar o grandeza d candidatar antar , perceber enganir . 51 só , pingar e daciolo  "
      ]
     },
     "execution_count": 3,
     "metadata": {},
     "output_type": "execute_result"
    }
   ],
   "source": [
    "tweets = pd.read_csv('tweets_debate_limpo.csv')\n",
    "\n",
    "tweets.head()"
   ]
  },
  {
   "cell_type": "code",
   "execution_count": 4,
   "metadata": {},
   "outputs": [],
   "source": [
    "tweets['datetime'] = tweets['datetime'].apply(pd.Timestamp)"
   ]
  },
  {
   "cell_type": "code",
   "execution_count": 5,
   "metadata": {},
   "outputs": [
    {
     "data": {
      "text/plain": [
       "(180490, 9)"
      ]
     },
     "execution_count": 5,
     "metadata": {},
     "output_type": "execute_result"
    }
   ],
   "source": [
    "tweets.shape"
   ]
  },
  {
   "cell_type": "code",
   "execution_count": 6,
   "metadata": {},
   "outputs": [
    {
     "data": {
      "image/png": "[encoded data removed]",
      "text/plain": [
       "<Figure size 1080x576 with 1 Axes>"
      ]
     },
     "metadata": {},
     "output_type": "display_data"
    }
   ],
   "source": [
    "first_hour = tweets[(tweets['datetime']>pd.Timestamp('2018-09-26 17:45:00')) & (tweets['datetime']<=pd.Timestamp('2018-09-26 18:45:00'))]\n",
    "\n",
    "fig, ax = plt.subplots(figsize=(15, 8))\n",
    "x_order = list(range(45, 60)) + list(range(0, 45))\n",
    "ax = sns.countplot(x='minute', data=first_hour, order=x_order)\n",
    "_ = ax.set(title='17h45 - 18h45')"
   ]
  },
  {
   "cell_type": "code",
   "execution_count": 7,
   "metadata": {},
   "outputs": [
    {
     "data": {
      "image/png": "[encoded data removed]",
      "text/plain": [
       "<Figure size 1080x576 with 1 Axes>"
      ]
     },
     "metadata": {},
     "output_type": "display_data"
    }
   ],
   "source": [
    "second_hour = tweets[(tweets['datetime']>pd.Timestamp('2018-09-26 18:45:00')) & (tweets['datetime']<=pd.Timestamp('2018-09-26 19:45:00'))]\n",
    "\n",
    "fig, ax = plt.subplots(figsize=(15, 8))\n",
    "x_order = list(range(45, 60)) + list(range(0, 30))\n",
    "ax = sns.countplot(x='minute', data=second_hour, order=x_order)\n",
    "_ = ax.set(title='18h45 - 19h30')"
   ]
  },
  {
   "cell_type": "markdown",
   "metadata": {},
   "source": [
    "Aproximadamente 3 picos registrados: 18h11 - 18h16, 18h36 - 18h41, 19h11 - 19h22"
   ]
  },
  {
   "cell_type": "markdown",
   "metadata": {},
   "source": [
    "## Análise do primeiro pico de tweets registrado (18h11 - 18h16)\n",
    "***"
   ]
  },
  {
   "cell_type": "markdown",
   "metadata": {},
   "source": [
    "- Funções que serão utilizadas na análise:"
   ]
  },
  {
   "cell_type": "code",
   "execution_count": 89,
   "metadata": {},
   "outputs": [],
   "source": [
    "import re\n",
    "from collections import Counter\n",
    "\n",
    "def localizar_palavra(palavra, dataset): \n",
    "    return pd.Series(np.histogram([word.i for word in dataset if word.text.lower() == palavra], bins=50)[0])\n",
    "\n",
    "def is_word_in_text(word, text):\n",
    "    pattern = r'(^|[^\\w]){}([^\\w]|$)'.format(word)\n",
    "    pattern = re.compile(pattern, re.IGNORECASE)\n",
    "    matches = re.search(pattern, text)\n",
    "    return bool(matches)\n",
    "\n",
    "def plot_contagem_candidatos(df, lista_candidatos):\n",
    "    contagem = []\n",
    "    for candidato in lista_candidatos:\n",
    "        contagem.append(df['text'].astype(str).apply(lambda x: is_word_in_text(candidato, x.lower())).sum())\n",
    "\n",
    "    plot_df = pd.DataFrame({'candidatos': candidatos, 'contagem': contagem}).sort_values(by='contagem', ascending=False)\n",
    "    fig, ax = plt.subplots(figsize=(15, 8))\n",
    "    _ = sns.barplot(x='candidatos', y='contagem', data=plot_df, ax=ax)\n",
    "\n",
    "def verbs_candidates(text, candidate):\n",
    "    sents = [sent for sent in text.sents if candidate in sent.string.lower()]\n",
    "    char_words = []\n",
    "    for sent in sents: \n",
    "        for word in sent: \n",
    "            if candidate in word.string: \n",
    "                char_words.append(word)\n",
    "    char_verbs = []\n",
    "    for word in char_words: \n",
    "        for ancestor in word.ancestors: \n",
    "            if ancestor.pos_.startswith('V'): \n",
    "                char_verbs.append(ancestor.lemma_.strip())\n",
    "    return Counter(char_verbs).most_common(5)\n",
    "\n",
    "def frases_candidato_verbo(df, candidato, verbo, qtde=5):\n",
    "    mask_cand = df['text_clean'].astype(str).apply(lambda x: is_word_in_text(candidato, x))\n",
    "    mask_verb = df['text_clean'].astype(str).apply(lambda x: is_word_in_text(verbo, x))\n",
    "    return list(data_1[mask_cand & mask_verb]['text'].head(qtde))"
   ]
  },
  {
   "cell_type": "markdown",
   "metadata": {},
   "source": [
    "- Separação do dataset com os tweets compreendidos apenas no intervalo de tempo em que a análise será realizada:"
   ]
  },
  {
   "cell_type": "code",
   "execution_count": 88,
   "metadata": {},
   "outputs": [
    {
     "data": {
      "text/plain": [
       "6888"
      ]
     },
     "execution_count": 88,
     "metadata": {},
     "output_type": "execute_result"
    }
   ],
   "source": [
    "data_1 = tweets[(tweets['datetime']>pd.Timestamp('2018-09-26 18:11:00')) & (tweets['datetime']<=pd.Timestamp('2018-09-26 18:14:00'))]\n",
    "len(data_1)"
   ]
  },
  {
   "cell_type": "markdown",
   "metadata": {},
   "source": [
    "- Transformação do dataset em documento do spacy:"
   ]
  },
  {
   "cell_type": "code",
   "execution_count": 12,
   "metadata": {},
   "outputs": [],
   "source": [
    "pico_1 = nlp(str(data_1['text']))"
   ]
  },
  {
   "cell_type": "markdown",
   "metadata": {},
   "source": [
    "- Lista de candidatos:"
   ]
  },
  {
   "cell_type": "code",
   "execution_count": 23,
   "metadata": {},
   "outputs": [],
   "source": [
    "candidatos = ['ciro', 'bolsonaro', 'marina', 'alckmin', 'meirelles', 'daciolo', 'álvaro', 'haddad', 'amoedo', 'boulos']"
   ]
  },
  {
   "cell_type": "markdown",
   "metadata": {},
   "source": [
    "- Gráfico de dispersão lexical:"
   ]
  },
  {
   "cell_type": "code",
   "execution_count": 25,
   "metadata": {},
   "outputs": [
    {
     "data": {
      "image/png": "[encoded data removed]",
      "text/plain": [
       "<Figure size 1080x864 with 10 Axes>"
      ]
     },
     "metadata": {},
     "output_type": "display_data"
    }
   ],
   "source": [
    "dispersao = pd.DataFrame({name: localizar_palavra(name.lower(), pico_1) for name in candidatos})\n",
    "\n",
    "_ = dispersao.plot(subplots=True, figsize=(15,12))"
   ]
  },
  {
   "cell_type": "markdown",
   "metadata": {},
   "source": [
    "Aparentemente neste momento o nome da candidata marina e do candidato haddad aparecem correlacionados."
   ]
  },
  {
   "cell_type": "markdown",
   "metadata": {},
   "source": [
    "- Gráfico da contagem de tweets de cada candidato:"
   ]
  },
  {
   "cell_type": "code",
   "execution_count": 87,
   "metadata": {},
   "outputs": [
    {
     "data": {
      "image/png": "[encoded data removed]",
      "text/plain": [
       "<Figure size 1080x576 with 1 Axes>"
      ]
     },
     "metadata": {},
     "output_type": "display_data"
    }
   ],
   "source": [
    "plot_contagem_candidatos(data_1, candidatos)"
   ]
  },
  {
   "cell_type": "markdown",
   "metadata": {},
   "source": [
    "Verbos que descrevem cada candidato mais comentado neste primeiro pico de tweets (Daciolo, Marina e Haddad):\n",
    "- Haddad:"
   ]
  },
  {
   "cell_type": "code",
   "execution_count": 30,
   "metadata": {},
   "outputs": [
    {
     "data": {
      "text/plain": [
       "[('comer', 11), ('dar', 11), ('votar', 6), ('esmurrar', 5), ('ficar', 5)]"
      ]
     },
     "execution_count": 30,
     "metadata": {},
     "output_type": "execute_result"
    }
   ],
   "source": [
    "verbs_candidates(pico_1, 'haddad')"
   ]
  },
  {
   "cell_type": "markdown",
   "metadata": {},
   "source": [
    "- Marina:"
   ]
  },
  {
   "cell_type": "code",
   "execution_count": 31,
   "metadata": {},
   "outputs": [
    {
     "data": {
      "text/plain": [
       "[('ter', 18), ('dar', 17), ('comer', 7), ('apoiar', 6), ('querer', 6)]"
      ]
     },
     "execution_count": 31,
     "metadata": {},
     "output_type": "execute_result"
    }
   ],
   "source": [
    "verbs_candidates(pico_1, 'marina')"
   ]
  },
  {
   "cell_type": "markdown",
   "metadata": {},
   "source": [
    "- Daciolo:"
   ]
  },
  {
   "cell_type": "code",
   "execution_count": 32,
   "metadata": {},
   "outputs": [
    {
     "data": {
      "text/plain": [
       "[('ter', 30), ('fazer', 24), ('dar', 20), ('ver', 19), ('rir', 18)]"
      ]
     },
     "execution_count": 32,
     "metadata": {},
     "output_type": "execute_result"
    }
   ],
   "source": [
    "verbs_candidates(pico_1, 'daciolo')"
   ]
  },
  {
   "cell_type": "markdown",
   "metadata": {},
   "source": [
    "Alguns tweets de cada candidato em relação à alguns verbos mais usados:\n",
    "- Haddad:"
   ]
  },
  {
   "cell_type": "code",
   "execution_count": 56,
   "metadata": {},
   "outputs": [
    {
     "data": {
      "text/plain": [
       "['#DebateSBT Marina deu um tapa na cara do Haddad quem vota no PT e porque quer ver o Brasil continua cheio de problemas como está hoje',\n",
       " 'Se metade dos Alckmin e metade dos Amoedo votarem em Bolsonaro já no 1º turno ele ganha no primeiro turno. Não é voto útil. É voto anti-venezuela, anti-robalheira, voto patriota, voto na família, voto contra a ideologia de gênero, voto na segurança.\\r\\r\\n\\r\\r\\n BOLSONARO 31% X 20% HADDAD https://t.co/qLe1rqKWpi',\n",
       " '@vecatsfig @Rayctjay @CarlosE36195435 Quem vota em Haddad ,Alckmin não tem argumentos...a seita não deixa pensar...… https://t.co/Q890tQ8P7P',\n",
       " 'vcs que vão votar é melhor se perguntarem se o nome vai combinar pq antes a gente falava 10 dilmas 10 temers e falar 10 bolsonaros NAO FICA BONITO então obviamente vcs tem que votar no haddad ou no ciro pq esse é o quesito mais importante a ser seguido em uma eleição',\n",
       " 'vcs que vão votar é melhor se perguntarem se o nome vai combinar pq antes a gente falava 10 dilmas 10 temers e falar 10 bolsonaros NAO FICA BONITO então obviamente vcs tem que votar no haddad ou no ciro pq esse é o quesito mais importante a ser seguido em uma eleição']"
      ]
     },
     "execution_count": 56,
     "metadata": {},
     "output_type": "execute_result"
    }
   ],
   "source": [
    "frases_candidato_verbo(data_1, 'haddad', 'votar')"
   ]
  },
  {
   "cell_type": "code",
   "execution_count": 57,
   "metadata": {},
   "outputs": [
    {
     "data": {
      "text/plain": [
       "['Marina esmurrando o Haddad no Debate. VAI MARINAAA ACABA COM ESSE FANTOCHE. #MarinaComCiro #Ciro12 #DebateSBT #CironoSBT',\n",
       " 'a marina esmurrou muito o haddad agora.. ele tava espumando pelos olhos enquanto ela falava',\n",
       " '#DebateNoSBT Haddad esmurrou Marina q virou e socou duas vezes a cara do Haddad',\n",
       " 'nossa agora eu fiquei caralho haddad esmurrou depois porra marina esmurrou mais haddad marina haddad marin #DebateSBT',\n",
       " '#DebateSBT MARINA ESMURROU O HADDAD, QUE MULHER E TUDO ISSO DEMOCRATICAMENTE']"
      ]
     },
     "execution_count": 57,
     "metadata": {},
     "output_type": "execute_result"
    }
   ],
   "source": [
    "frases_candidato_verbo(data_1, 'haddad', 'esmurrar')"
   ]
  },
  {
   "cell_type": "markdown",
   "metadata": {},
   "source": [
    "- Marina:"
   ]
  },
  {
   "cell_type": "code",
   "execution_count": 67,
   "metadata": {},
   "outputs": [
    {
     "data": {
      "text/plain": [
       "['Marina mulher, deixe de churumelas que a gente sabe que tu apoiou o Temer no golpe #DebateSBT',\n",
       " 'a marina apoia o impeachment e depois vem no debate colocar a culpa no PT\\r\\r\\n\\r\\r\\nque cara dura',\n",
       " 'ué, mas o renan calheiros não apoiou o impeachment, marina. risos.',\n",
       " 'O assustador desse último embate entre Haddad e Marina acerca do nome do Temer é que os dois tão certos: Marina apoiou o impeachment e ajudou a colocar o Temer ali, mas Temer e as alianças com o PMDB foram parte da política padrão do PT (e ainda hoje, localmente, vide Eunício).',\n",
       " 'O assustador desse último embate entre Haddad e Marina acerca do nome do Temer é que os dois tão certos: Marina apoiou o impeachment e ajudou a colocar o Temer ali, mas Temer e as alianças com o PMDB foram parte da política padrão do PT (e ainda hoje, localmente, vide Eunício).']"
      ]
     },
     "execution_count": 67,
     "metadata": {},
     "output_type": "execute_result"
    }
   ],
   "source": [
    "# spacy entendeu 'marina' como 'marino'\n",
    "frases_candidato_verbo(data_1, 'marino', 'apoiar')"
   ]
  },
  {
   "cell_type": "code",
   "execution_count": 68,
   "metadata": {},
   "outputs": [
    {
     "data": {
      "text/plain": [
       "['Haddad: se faz de sonso \\r\\r\\nAlckmin: falso que só a desgraça \\r\\r\\nCiro: Bolsonaro da esquerda \\r\\r\\nBolsonaro: Ciro da direita \\r\\r\\nMarina: nem ela quer ser presidente \\r\\r\\n\\r\\r\\nDaciolo: bonito, carismático e sensato',\n",
       " '@MBLivre Haddad quis fugir do daciolo mas se deu mal com Marina',\n",
       " 'Nossa Marina, quero voltar pro ensino médio. Ótima proposta! #DebateSBT',\n",
       " 'Parabéns Marina, colocando o Haddad no seu devivo Lugar, fala o que quer e ouve o que não quer #DebateSBT #Ciro12… https://t.co/nY7rE9wGQP',\n",
       " '#DebateSBT Marina deu um tapa na cara do Haddad quem vota no PT e porque quer ver o Brasil continua cheio de problemas como está hoje']"
      ]
     },
     "execution_count": 68,
     "metadata": {},
     "output_type": "execute_result"
    }
   ],
   "source": [
    "frases_candidato_verbo(data_1, 'marino', 'querer')"
   ]
  },
  {
   "cell_type": "markdown",
   "metadata": {},
   "source": [
    "- Daciolo:"
   ]
  },
  {
   "cell_type": "code",
   "execution_count": 72,
   "metadata": {},
   "outputs": [
    {
     "data": {
      "text/plain": [
       "['PARA DE RIR DO DACIOLO VÉI DESGRAÇADO',\n",
       " 'EU TO RINDO MT DO CABO DACIOLO KKKKKKKK SOCORRO #DebateSBT',\n",
       " 'eu não consigo não ri com o cabo daciolo',\n",
       " 'O Meirelles rindo do Daciolo kkkkkkkk #DebateSBT',\n",
       " 'O Daciolo, aaaaah eu morro de rir demais da conta']"
      ]
     },
     "execution_count": 72,
     "metadata": {},
     "output_type": "execute_result"
    }
   ],
   "source": [
    "frases_candidato_verbo(data_1, 'daciolo', 'rir')"
   ]
  },
  {
   "cell_type": "markdown",
   "metadata": {},
   "source": [
    "## Análise de Sentimentos\n",
    "***"
   ]
  },
  {
   "cell_type": "code",
   "execution_count": 90,
   "metadata": {},
   "outputs": [],
   "source": [
    "# Datasets train e holdout anteriormente tratados (notebook Preprocessing)\n",
    "train = pd.read_csv('tweets_train.csv')\n",
    "holdout = pd.read_csv('tweets_holdout.csv')"
   ]
  },
  {
   "cell_type": "code",
   "execution_count": 91,
   "metadata": {},
   "outputs": [
    {
     "data": {
      "text/html": [
       "<div>\n",
       "<style scoped>\n",
       "    .dataframe tbody tr th:only-of-type {\n",
       "        vertical-align: middle;\n",
       "    }\n",
       "\n",
       "    .dataframe tbody tr th {\n",
       "        vertical-align: top;\n",
       "    }\n",
       "\n",
       "    .dataframe thead th {\n",
       "        text-align: right;\n",
       "    }\n",
       "</style>\n",
       "<table border=\"1\" class=\"dataframe\">\n",
       "  <thead>\n",
       "    <tr style=\"text-align: right;\">\n",
       "      <th></th>\n",
       "      <th>text</th>\n",
       "      <th>hour</th>\n",
       "      <th>minute</th>\n",
       "      <th>second</th>\n",
       "      <th>day</th>\n",
       "      <th>month</th>\n",
       "      <th>year</th>\n",
       "      <th>datetime</th>\n",
       "      <th>text_clean</th>\n",
       "      <th>sentiment</th>\n",
       "    </tr>\n",
       "  </thead>\n",
       "  <tbody>\n",
       "    <tr>\n",
       "      <th>0</th>\n",
       "      <td>\"foda-se a eleição, eu quero ver o jogo porrraaaaaaaaaaaaaaaaaaaaaaaaaaaaaaaaaaaaaaaaaaaaaaaaaaaaaaaaaaaaaaaaaaaaaaaaaaa\" - Álvaro Dias</td>\n",
       "      <td>19</td>\n",
       "      <td>24</td>\n",
       "      <td>23</td>\n",
       "      <td>26</td>\n",
       "      <td>9</td>\n",
       "      <td>2018</td>\n",
       "      <td>2018-09-26 19:24:23</td>\n",
       "      <td>foder o eleição querer o jogar porrraaaaaaaaaaaaaaaaaaaaaaaaaaaaaaaaaaaaaaaaaaaaaaaaaaaaaaaaaaaaaaaaaaaaaaaaaaa álvaro</td>\n",
       "      <td>0.0</td>\n",
       "    </tr>\n",
       "    <tr>\n",
       "      <th>1</th>\n",
       "      <td>MANO O DACIOLO É FODA GLÓRIA DEUS</td>\n",
       "      <td>19</td>\n",
       "      <td>12</td>\n",
       "      <td>45</td>\n",
       "      <td>26</td>\n",
       "      <td>9</td>\n",
       "      <td>2018</td>\n",
       "      <td>2018-09-26 19:12:45</td>\n",
       "      <td>manir o daciolo foder glória deus</td>\n",
       "      <td>1.0</td>\n",
       "    </tr>\n",
       "    <tr>\n",
       "      <th>2</th>\n",
       "      <td>Porra Daciolo eu tinha até me emocionado com a declaração pra mamãe e esposa, agora tu mete essa de voto impresso meu consagrado? #DebateSBT</td>\n",
       "      <td>19</td>\n",
       "      <td>13</td>\n",
       "      <td>41</td>\n",
       "      <td>26</td>\n",
       "      <td>9</td>\n",
       "      <td>2018</td>\n",
       "      <td>2018-09-26 19:13:41</td>\n",
       "      <td>porra daciolo emocionar o declaração pra mamãe e esposo meter votar impresso consagrar debatesbt</td>\n",
       "      <td>-1.0</td>\n",
       "    </tr>\n",
       "    <tr>\n",
       "      <th>3</th>\n",
       "      <td>Daciolo falou pouco, mas falou bonito...</td>\n",
       "      <td>18</td>\n",
       "      <td>37</td>\n",
       "      <td>45</td>\n",
       "      <td>26</td>\n",
       "      <td>9</td>\n",
       "      <td>2018</td>\n",
       "      <td>2018-09-26 18:37:45</td>\n",
       "      <td>daciolo falar falar bonito</td>\n",
       "      <td>1.0</td>\n",
       "    </tr>\n",
       "    <tr>\n",
       "      <th>4</th>\n",
       "      <td>@morgalashnikova Eu n valorizei a grandeza desse candidato antes, mas agora eu percebi meu engano. 51 é só coisa boa, pinga e Daciolo</td>\n",
       "      <td>19</td>\n",
       "      <td>12</td>\n",
       "      <td>20</td>\n",
       "      <td>26</td>\n",
       "      <td>9</td>\n",
       "      <td>2018</td>\n",
       "      <td>2018-09-26 19:12:20</td>\n",
       "      <td>@morgalashnikova n valorizar o grandeza d candidatar antar perceber enganir 51 só pingar e daciolo</td>\n",
       "      <td>1.0</td>\n",
       "    </tr>\n",
       "  </tbody>\n",
       "</table>\n",
       "</div>"
      ],
      "text/plain": [
       "                                                                                                                                           text  \\\n",
       "0       \"foda-se a eleição, eu quero ver o jogo porrraaaaaaaaaaaaaaaaaaaaaaaaaaaaaaaaaaaaaaaaaaaaaaaaaaaaaaaaaaaaaaaaaaaaaaaaaaa\" - Álvaro Dias   \n",
       "1                                                                                                             MANO O DACIOLO É FODA GLÓRIA DEUS   \n",
       "2  Porra Daciolo eu tinha até me emocionado com a declaração pra mamãe e esposa, agora tu mete essa de voto impresso meu consagrado? #DebateSBT   \n",
       "3                                                                                                      Daciolo falou pouco, mas falou bonito...   \n",
       "4         @morgalashnikova Eu n valorizei a grandeza desse candidato antes, mas agora eu percebi meu engano. 51 é só coisa boa, pinga e Daciolo   \n",
       "\n",
       "   hour  minute  second  day  month  year             datetime  \\\n",
       "0    19      24      23   26      9  2018  2018-09-26 19:24:23   \n",
       "1    19      12      45   26      9  2018  2018-09-26 19:12:45   \n",
       "2    19      13      41   26      9  2018  2018-09-26 19:13:41   \n",
       "3    18      37      45   26      9  2018  2018-09-26 18:37:45   \n",
       "4    19      12      20   26      9  2018  2018-09-26 19:12:20   \n",
       "\n",
       "                                                                                                               text_clean  \\\n",
       "0  foder o eleição querer o jogar porrraaaaaaaaaaaaaaaaaaaaaaaaaaaaaaaaaaaaaaaaaaaaaaaaaaaaaaaaaaaaaaaaaaaaaaaaaaa álvaro   \n",
       "1                                                                                       manir o daciolo foder glória deus   \n",
       "2                        porra daciolo emocionar o declaração pra mamãe e esposo meter votar impresso consagrar debatesbt   \n",
       "3                                                                                              daciolo falar falar bonito   \n",
       "4                      @morgalashnikova n valorizar o grandeza d candidatar antar perceber enganir 51 só pingar e daciolo   \n",
       "\n",
       "   sentiment  \n",
       "0        0.0  \n",
       "1        1.0  \n",
       "2       -1.0  \n",
       "3        1.0  \n",
       "4        1.0  "
      ]
     },
     "execution_count": 91,
     "metadata": {},
     "output_type": "execute_result"
    }
   ],
   "source": [
    "train.head()"
   ]
  },
  {
   "cell_type": "code",
   "execution_count": 92,
   "metadata": {},
   "outputs": [
    {
     "data": {
      "text/html": [
       "<div>\n",
       "<style scoped>\n",
       "    .dataframe tbody tr th:only-of-type {\n",
       "        vertical-align: middle;\n",
       "    }\n",
       "\n",
       "    .dataframe tbody tr th {\n",
       "        vertical-align: top;\n",
       "    }\n",
       "\n",
       "    .dataframe thead th {\n",
       "        text-align: right;\n",
       "    }\n",
       "</style>\n",
       "<table border=\"1\" class=\"dataframe\">\n",
       "  <thead>\n",
       "    <tr style=\"text-align: right;\">\n",
       "      <th></th>\n",
       "      <th>text</th>\n",
       "      <th>hour</th>\n",
       "      <th>minute</th>\n",
       "      <th>second</th>\n",
       "      <th>day</th>\n",
       "      <th>month</th>\n",
       "      <th>year</th>\n",
       "      <th>datetime</th>\n",
       "      <th>text_clean</th>\n",
       "    </tr>\n",
       "  </thead>\n",
       "  <tbody>\n",
       "    <tr>\n",
       "      <th>0</th>\n",
       "      <td>A Questão é o Trabalho 9 debate a Contribuição Sindical com o desembargador Luiz Eduardo Gunther: https://t.co/DbIrDjVAJq via</td>\n",
       "      <td>19</td>\n",
       "      <td>19</td>\n",
       "      <td>23</td>\n",
       "      <td>26</td>\n",
       "      <td>9</td>\n",
       "      <td>2018</td>\n",
       "      <td>2018-09-26 19:19:23</td>\n",
       "      <td>o o 9 debater o contribuição sindical o desembargador luiz eduardo gunther</td>\n",
       "    </tr>\n",
       "    <tr>\n",
       "      <th>1</th>\n",
       "      <td>São Paulo Futebol Clube ou, segundo o Alckmin, O Time Lá. #DebateSBT</td>\n",
       "      <td>18</td>\n",
       "      <td>47</td>\n",
       "      <td>47</td>\n",
       "      <td>26</td>\n",
       "      <td>9</td>\n",
       "      <td>2018</td>\n",
       "      <td>2018-09-26 18:47:47</td>\n",
       "      <td>paulo futebol clube segundar o alckmin o time debatesbt</td>\n",
       "    </tr>\n",
       "    <tr>\n",
       "      <th>2</th>\n",
       "      <td>Marina destruindo o RADADI</td>\n",
       "      <td>18</td>\n",
       "      <td>10</td>\n",
       "      <td>44</td>\n",
       "      <td>26</td>\n",
       "      <td>9</td>\n",
       "      <td>2018</td>\n",
       "      <td>2018-09-26 18:10:44</td>\n",
       "      <td>marino destruir o radadi</td>\n",
       "    </tr>\n",
       "    <tr>\n",
       "      <th>3</th>\n",
       "      <td>Boulos eu te amo!❤</td>\n",
       "      <td>19</td>\n",
       "      <td>6</td>\n",
       "      <td>55</td>\n",
       "      <td>26</td>\n",
       "      <td>9</td>\n",
       "      <td>2018</td>\n",
       "      <td>2018-09-26 19:06:55</td>\n",
       "      <td>boulos amar ❤</td>\n",
       "    </tr>\n",
       "    <tr>\n",
       "      <th>4</th>\n",
       "      <td>O assustador desse último embate entre Haddad e Marina acerca do nome do Temer é que os dois tão certos: Marina apoiou o impeachment e ajudou a colocar o Temer ali, mas Temer e as alianças com o PMDB foram parte da política padrão do PT (e ainda hoje, localmente, vide Eunício).</td>\n",
       "      <td>18</td>\n",
       "      <td>14</td>\n",
       "      <td>17</td>\n",
       "      <td>26</td>\n",
       "      <td>9</td>\n",
       "      <td>2018</td>\n",
       "      <td>2018-09-26 18:14:17</td>\n",
       "      <td>o assustador d embater entrar haddad e marino acercar temer o certo marino apoiar o impeachment e ajudar o colocar o temer temer e o aliançar o pmdb político padrão pt e localmente vidar eunício</td>\n",
       "    </tr>\n",
       "  </tbody>\n",
       "</table>\n",
       "</div>"
      ],
      "text/plain": [
       "                                                                                                                                                                                                                                                                                     text  \\\n",
       "0                                                                                                                                                           A Questão é o Trabalho 9 debate a Contribuição Sindical com o desembargador Luiz Eduardo Gunther: https://t.co/DbIrDjVAJq via   \n",
       "1                                                                                                                                                                                                                    São Paulo Futebol Clube ou, segundo o Alckmin, O Time Lá. #DebateSBT   \n",
       "2                                                                                                                                                                                                                                                              Marina destruindo o RADADI   \n",
       "3                                                                                                                                                                                                                                                                      Boulos eu te amo!❤   \n",
       "4  O assustador desse último embate entre Haddad e Marina acerca do nome do Temer é que os dois tão certos: Marina apoiou o impeachment e ajudou a colocar o Temer ali, mas Temer e as alianças com o PMDB foram parte da política padrão do PT (e ainda hoje, localmente, vide Eunício).   \n",
       "\n",
       "   hour  minute  second  day  month  year             datetime  \\\n",
       "0    19      19      23   26      9  2018  2018-09-26 19:19:23   \n",
       "1    18      47      47   26      9  2018  2018-09-26 18:47:47   \n",
       "2    18      10      44   26      9  2018  2018-09-26 18:10:44   \n",
       "3    19       6      55   26      9  2018  2018-09-26 19:06:55   \n",
       "4    18      14      17   26      9  2018  2018-09-26 18:14:17   \n",
       "\n",
       "                                                                                                                                                                                           text_clean  \n",
       "0                                                                                                                          o o 9 debater o contribuição sindical o desembargador luiz eduardo gunther  \n",
       "1                                                                                                                                             paulo futebol clube segundar o alckmin o time debatesbt  \n",
       "2                                                                                                                                                                            marino destruir o radadi  \n",
       "3                                                                                                                                                                                       boulos amar ❤  \n",
       "4  o assustador d embater entrar haddad e marino acercar temer o certo marino apoiar o impeachment e ajudar o colocar o temer temer e o aliançar o pmdb político padrão pt e localmente vidar eunício  "
      ]
     },
     "execution_count": 92,
     "metadata": {},
     "output_type": "execute_result"
    }
   ],
   "source": [
    "holdout.head()"
   ]
  },
  {
   "cell_type": "code",
   "execution_count": 93,
   "metadata": {},
   "outputs": [
    {
     "data": {
      "text/plain": [
       "(1000, 10)"
      ]
     },
     "execution_count": 93,
     "metadata": {},
     "output_type": "execute_result"
    }
   ],
   "source": [
    "train.shape"
   ]
  },
  {
   "cell_type": "markdown",
   "metadata": {},
   "source": [
    "- No processo de normalização dos tweets há a retirada de stopwords, o que pode gerar um output nulo em tweets com apenas stopwords:"
   ]
  },
  {
   "cell_type": "code",
   "execution_count": 95,
   "metadata": {},
   "outputs": [
    {
     "data": {
      "text/html": [
       "<div>\n",
       "<style scoped>\n",
       "    .dataframe tbody tr th:only-of-type {\n",
       "        vertical-align: middle;\n",
       "    }\n",
       "\n",
       "    .dataframe tbody tr th {\n",
       "        vertical-align: top;\n",
       "    }\n",
       "\n",
       "    .dataframe thead th {\n",
       "        text-align: right;\n",
       "    }\n",
       "</style>\n",
       "<table border=\"1\" class=\"dataframe\">\n",
       "  <thead>\n",
       "    <tr style=\"text-align: right;\">\n",
       "      <th></th>\n",
       "      <th>text</th>\n",
       "      <th>hour</th>\n",
       "      <th>minute</th>\n",
       "      <th>second</th>\n",
       "      <th>day</th>\n",
       "      <th>month</th>\n",
       "      <th>year</th>\n",
       "      <th>datetime</th>\n",
       "      <th>text_clean</th>\n",
       "    </tr>\n",
       "  </thead>\n",
       "  <tbody>\n",
       "    <tr>\n",
       "      <th>653</th>\n",
       "      <td>Eu todinha</td>\n",
       "      <td>18</td>\n",
       "      <td>10</td>\n",
       "      <td>6</td>\n",
       "      <td>26</td>\n",
       "      <td>9</td>\n",
       "      <td>2018</td>\n",
       "      <td>2018-09-26 18:10:06</td>\n",
       "      <td>NaN</td>\n",
       "    </tr>\n",
       "    <tr>\n",
       "      <th>1559</th>\n",
       "      <td>Muito</td>\n",
       "      <td>18</td>\n",
       "      <td>27</td>\n",
       "      <td>41</td>\n",
       "      <td>26</td>\n",
       "      <td>9</td>\n",
       "      <td>2018</td>\n",
       "      <td>2018-09-26 18:27:41</td>\n",
       "      <td>NaN</td>\n",
       "    </tr>\n",
       "    <tr>\n",
       "      <th>1736</th>\n",
       "      <td>que assim seja.</td>\n",
       "      <td>18</td>\n",
       "      <td>38</td>\n",
       "      <td>5</td>\n",
       "      <td>26</td>\n",
       "      <td>9</td>\n",
       "      <td>2018</td>\n",
       "      <td>2018-09-26 18:38:05</td>\n",
       "      <td>NaN</td>\n",
       "    </tr>\n",
       "    <tr>\n",
       "      <th>2624</th>\n",
       "      <td>Isso numa quarta</td>\n",
       "      <td>19</td>\n",
       "      <td>17</td>\n",
       "      <td>14</td>\n",
       "      <td>26</td>\n",
       "      <td>9</td>\n",
       "      <td>2018</td>\n",
       "      <td>2018-09-26 19:17:14</td>\n",
       "      <td>NaN</td>\n",
       "    </tr>\n",
       "    <tr>\n",
       "      <th>3069</th>\n",
       "      <td>É verdade</td>\n",
       "      <td>19</td>\n",
       "      <td>24</td>\n",
       "      <td>58</td>\n",
       "      <td>26</td>\n",
       "      <td>9</td>\n",
       "      <td>2018</td>\n",
       "      <td>2018-09-26 19:24:58</td>\n",
       "      <td>NaN</td>\n",
       "    </tr>\n",
       "  </tbody>\n",
       "</table>\n",
       "</div>"
      ],
      "text/plain": [
       "                  text  hour  minute  second  day  month  year  \\\n",
       "653         Eu todinha    18      10       6   26      9  2018   \n",
       "1559             Muito    18      27      41   26      9  2018   \n",
       "1736   que assim seja.    18      38       5   26      9  2018   \n",
       "2624  Isso numa quarta    19      17      14   26      9  2018   \n",
       "3069         É verdade    19      24      58   26      9  2018   \n",
       "\n",
       "                 datetime text_clean  \n",
       "653   2018-09-26 18:10:06        NaN  \n",
       "1559  2018-09-26 18:27:41        NaN  \n",
       "1736  2018-09-26 18:38:05        NaN  \n",
       "2624  2018-09-26 19:17:14        NaN  \n",
       "3069  2018-09-26 19:24:58        NaN  "
      ]
     },
     "execution_count": 95,
     "metadata": {},
     "output_type": "execute_result"
    }
   ],
   "source": [
    "holdout[holdout['text_clean'].isnull()].head()"
   ]
  },
  {
   "cell_type": "code",
   "execution_count": 96,
   "metadata": {},
   "outputs": [],
   "source": [
    "holdout = holdout.dropna()"
   ]
  },
  {
   "cell_type": "markdown",
   "metadata": {},
   "source": [
    "- Pré-processamento dos datasets:"
   ]
  },
  {
   "cell_type": "code",
   "execution_count": 106,
   "metadata": {},
   "outputs": [],
   "source": [
    "from sklearn.feature_extraction.text import CountVectorizer\n",
    "from sklearn.feature_extraction.text import TfidfTransformer"
   ]
  },
  {
   "cell_type": "code",
   "execution_count": 107,
   "metadata": {},
   "outputs": [],
   "source": [
    "n_train = train.shape[0]\n",
    "full = pd.concat([train, holdout], ignore_index=True, sort=False)\n",
    "full = full['text_clean'].copy()"
   ]
  },
  {
   "cell_type": "code",
   "execution_count": 108,
   "metadata": {},
   "outputs": [
    {
     "data": {
      "text/plain": [
       "(180304,)"
      ]
     },
     "execution_count": 108,
     "metadata": {},
     "output_type": "execute_result"
    }
   ],
   "source": [
    "full.shape"
   ]
  },
  {
   "cell_type": "code",
   "execution_count": 109,
   "metadata": {},
   "outputs": [],
   "source": [
    "vectorizer = CountVectorizer()\n",
    "X = vectorizer.fit_transform(full)"
   ]
  },
  {
   "cell_type": "code",
   "execution_count": 110,
   "metadata": {},
   "outputs": [],
   "source": [
    "tfidf = TfidfTransformer()\n",
    "X = tfidf.fit_transform(X)"
   ]
  },
  {
   "cell_type": "code",
   "execution_count": 112,
   "metadata": {},
   "outputs": [],
   "source": [
    "train_tfidf = X[:n_train, :]\n",
    "holdout_tfidf = X[n_train:, :]\n",
    "y = train['sentiment']"
   ]
  },
  {
   "cell_type": "markdown",
   "metadata": {},
   "source": [
    "- Random Forest Classifier:"
   ]
  },
  {
   "cell_type": "code",
   "execution_count": 114,
   "metadata": {},
   "outputs": [],
   "source": [
    "from sklearn.model_selection import cross_val_score"
   ]
  },
  {
   "cell_type": "code",
   "execution_count": 115,
   "metadata": {},
   "outputs": [
    {
     "name": "stderr",
     "output_type": "stream",
     "text": [
      "D:\\Anaconda\\lib\\site-packages\\sklearn\\ensemble\\weight_boosting.py:29: DeprecationWarning: numpy.core.umath_tests is an internal NumPy module and should not be imported. It will be removed in a future NumPy release.\n",
      "  from numpy.core.umath_tests import inner1d\n"
     ]
    }
   ],
   "source": [
    "from sklearn.ensemble import RandomForestClassifier"
   ]
  },
  {
   "cell_type": "code",
   "execution_count": 127,
   "metadata": {},
   "outputs": [],
   "source": [
    "rf = RandomForestClassifier(n_jobs=-1, n_estimators=50).fit(train_tfidf, y)"
   ]
  },
  {
   "cell_type": "code",
   "execution_count": 128,
   "metadata": {},
   "outputs": [
    {
     "data": {
      "text/plain": [
       "0.626004400440044"
      ]
     },
     "execution_count": 128,
     "metadata": {},
     "output_type": "execute_result"
    }
   ],
   "source": [
    "cross_val_score(rf, train_tfidf, y, cv=10, scoring='accuracy').mean()"
   ]
  },
  {
   "cell_type": "code",
   "execution_count": 129,
   "metadata": {},
   "outputs": [],
   "source": [
    "preds = rf.predict(holdout_tfidf)"
   ]
  },
  {
   "cell_type": "code",
   "execution_count": 130,
   "metadata": {},
   "outputs": [],
   "source": [
    "holdout['sentiment'] = preds"
   ]
  },
  {
   "cell_type": "code",
   "execution_count": 131,
   "metadata": {},
   "outputs": [
    {
     "data": {
      "text/html": [
       "<div>\n",
       "<style scoped>\n",
       "    .dataframe tbody tr th:only-of-type {\n",
       "        vertical-align: middle;\n",
       "    }\n",
       "\n",
       "    .dataframe tbody tr th {\n",
       "        vertical-align: top;\n",
       "    }\n",
       "\n",
       "    .dataframe thead th {\n",
       "        text-align: right;\n",
       "    }\n",
       "</style>\n",
       "<table border=\"1\" class=\"dataframe\">\n",
       "  <thead>\n",
       "    <tr style=\"text-align: right;\">\n",
       "      <th></th>\n",
       "      <th>text</th>\n",
       "      <th>hour</th>\n",
       "      <th>minute</th>\n",
       "      <th>second</th>\n",
       "      <th>day</th>\n",
       "      <th>month</th>\n",
       "      <th>year</th>\n",
       "      <th>datetime</th>\n",
       "      <th>text_clean</th>\n",
       "      <th>sentiment</th>\n",
       "    </tr>\n",
       "  </thead>\n",
       "  <tbody>\n",
       "    <tr>\n",
       "      <th>0</th>\n",
       "      <td>A Questão é o Trabalho 9 debate a Contribuição Sindical com o desembargador Luiz Eduardo Gunther: https://t.co/DbIrDjVAJq via</td>\n",
       "      <td>19</td>\n",
       "      <td>19</td>\n",
       "      <td>23</td>\n",
       "      <td>26</td>\n",
       "      <td>9</td>\n",
       "      <td>2018</td>\n",
       "      <td>2018-09-26 19:19:23</td>\n",
       "      <td>o o 9 debater o contribuição sindical o desembargador luiz eduardo gunther</td>\n",
       "      <td>0.0</td>\n",
       "    </tr>\n",
       "    <tr>\n",
       "      <th>1</th>\n",
       "      <td>São Paulo Futebol Clube ou, segundo o Alckmin, O Time Lá. #DebateSBT</td>\n",
       "      <td>18</td>\n",
       "      <td>47</td>\n",
       "      <td>47</td>\n",
       "      <td>26</td>\n",
       "      <td>9</td>\n",
       "      <td>2018</td>\n",
       "      <td>2018-09-26 18:47:47</td>\n",
       "      <td>paulo futebol clube segundar o alckmin o time debatesbt</td>\n",
       "      <td>-1.0</td>\n",
       "    </tr>\n",
       "    <tr>\n",
       "      <th>2</th>\n",
       "      <td>Marina destruindo o RADADI</td>\n",
       "      <td>18</td>\n",
       "      <td>10</td>\n",
       "      <td>44</td>\n",
       "      <td>26</td>\n",
       "      <td>9</td>\n",
       "      <td>2018</td>\n",
       "      <td>2018-09-26 18:10:44</td>\n",
       "      <td>marino destruir o radadi</td>\n",
       "      <td>1.0</td>\n",
       "    </tr>\n",
       "    <tr>\n",
       "      <th>3</th>\n",
       "      <td>Boulos eu te amo!❤</td>\n",
       "      <td>19</td>\n",
       "      <td>6</td>\n",
       "      <td>55</td>\n",
       "      <td>26</td>\n",
       "      <td>9</td>\n",
       "      <td>2018</td>\n",
       "      <td>2018-09-26 19:06:55</td>\n",
       "      <td>boulos amar ❤</td>\n",
       "      <td>1.0</td>\n",
       "    </tr>\n",
       "    <tr>\n",
       "      <th>4</th>\n",
       "      <td>O assustador desse último embate entre Haddad e Marina acerca do nome do Temer é que os dois tão certos: Marina apoiou o impeachment e ajudou a colocar o Temer ali, mas Temer e as alianças com o PMDB foram parte da política padrão do PT (e ainda hoje, localmente, vide Eunício).</td>\n",
       "      <td>18</td>\n",
       "      <td>14</td>\n",
       "      <td>17</td>\n",
       "      <td>26</td>\n",
       "      <td>9</td>\n",
       "      <td>2018</td>\n",
       "      <td>2018-09-26 18:14:17</td>\n",
       "      <td>o assustador d embater entrar haddad e marino acercar temer o certo marino apoiar o impeachment e ajudar o colocar o temer temer e o aliançar o pmdb político padrão pt e localmente vidar eunício</td>\n",
       "      <td>-1.0</td>\n",
       "    </tr>\n",
       "  </tbody>\n",
       "</table>\n",
       "</div>"
      ],
      "text/plain": [
       "                                                                                                                                                                                                                                                                                     text  \\\n",
       "0                                                                                                                                                           A Questão é o Trabalho 9 debate a Contribuição Sindical com o desembargador Luiz Eduardo Gunther: https://t.co/DbIrDjVAJq via   \n",
       "1                                                                                                                                                                                                                    São Paulo Futebol Clube ou, segundo o Alckmin, O Time Lá. #DebateSBT   \n",
       "2                                                                                                                                                                                                                                                              Marina destruindo o RADADI   \n",
       "3                                                                                                                                                                                                                                                                      Boulos eu te amo!❤   \n",
       "4  O assustador desse último embate entre Haddad e Marina acerca do nome do Temer é que os dois tão certos: Marina apoiou o impeachment e ajudou a colocar o Temer ali, mas Temer e as alianças com o PMDB foram parte da política padrão do PT (e ainda hoje, localmente, vide Eunício).   \n",
       "\n",
       "   hour  minute  second  day  month  year             datetime  \\\n",
       "0    19      19      23   26      9  2018  2018-09-26 19:19:23   \n",
       "1    18      47      47   26      9  2018  2018-09-26 18:47:47   \n",
       "2    18      10      44   26      9  2018  2018-09-26 18:10:44   \n",
       "3    19       6      55   26      9  2018  2018-09-26 19:06:55   \n",
       "4    18      14      17   26      9  2018  2018-09-26 18:14:17   \n",
       "\n",
       "                                                                                                                                                                                           text_clean  \\\n",
       "0                                                                                                                          o o 9 debater o contribuição sindical o desembargador luiz eduardo gunther   \n",
       "1                                                                                                                                             paulo futebol clube segundar o alckmin o time debatesbt   \n",
       "2                                                                                                                                                                            marino destruir o radadi   \n",
       "3                                                                                                                                                                                       boulos amar ❤   \n",
       "4  o assustador d embater entrar haddad e marino acercar temer o certo marino apoiar o impeachment e ajudar o colocar o temer temer e o aliançar o pmdb político padrão pt e localmente vidar eunício   \n",
       "\n",
       "   sentiment  \n",
       "0        0.0  \n",
       "1       -1.0  \n",
       "2        1.0  \n",
       "3        1.0  \n",
       "4       -1.0  "
      ]
     },
     "execution_count": 131,
     "metadata": {},
     "output_type": "execute_result"
    }
   ],
   "source": [
    "holdout.head()"
   ]
  },
  {
   "cell_type": "markdown",
   "metadata": {},
   "source": [
    "- Junção de todo o dataset para fazer a análise como um todo:"
   ]
  },
  {
   "cell_type": "code",
   "execution_count": 133,
   "metadata": {},
   "outputs": [],
   "source": [
    "full_tweets = pd.concat([train, holdout], ignore_index=True)"
   ]
  },
  {
   "cell_type": "code",
   "execution_count": 134,
   "metadata": {},
   "outputs": [
    {
     "data": {
      "text/html": [
       "<div>\n",
       "<style scoped>\n",
       "    .dataframe tbody tr th:only-of-type {\n",
       "        vertical-align: middle;\n",
       "    }\n",
       "\n",
       "    .dataframe tbody tr th {\n",
       "        vertical-align: top;\n",
       "    }\n",
       "\n",
       "    .dataframe thead th {\n",
       "        text-align: right;\n",
       "    }\n",
       "</style>\n",
       "<table border=\"1\" class=\"dataframe\">\n",
       "  <thead>\n",
       "    <tr style=\"text-align: right;\">\n",
       "      <th></th>\n",
       "      <th>text</th>\n",
       "      <th>hour</th>\n",
       "      <th>minute</th>\n",
       "      <th>second</th>\n",
       "      <th>day</th>\n",
       "      <th>month</th>\n",
       "      <th>year</th>\n",
       "      <th>datetime</th>\n",
       "      <th>text_clean</th>\n",
       "      <th>sentiment</th>\n",
       "    </tr>\n",
       "  </thead>\n",
       "  <tbody>\n",
       "    <tr>\n",
       "      <th>0</th>\n",
       "      <td>\"foda-se a eleição, eu quero ver o jogo porrraaaaaaaaaaaaaaaaaaaaaaaaaaaaaaaaaaaaaaaaaaaaaaaaaaaaaaaaaaaaaaaaaaaaaaaaaaa\" - Álvaro Dias</td>\n",
       "      <td>19</td>\n",
       "      <td>24</td>\n",
       "      <td>23</td>\n",
       "      <td>26</td>\n",
       "      <td>9</td>\n",
       "      <td>2018</td>\n",
       "      <td>2018-09-26 19:24:23</td>\n",
       "      <td>foder o eleição querer o jogar porrraaaaaaaaaaaaaaaaaaaaaaaaaaaaaaaaaaaaaaaaaaaaaaaaaaaaaaaaaaaaaaaaaaaaaaaaaaa álvaro</td>\n",
       "      <td>0.0</td>\n",
       "    </tr>\n",
       "    <tr>\n",
       "      <th>1</th>\n",
       "      <td>MANO O DACIOLO É FODA GLÓRIA DEUS</td>\n",
       "      <td>19</td>\n",
       "      <td>12</td>\n",
       "      <td>45</td>\n",
       "      <td>26</td>\n",
       "      <td>9</td>\n",
       "      <td>2018</td>\n",
       "      <td>2018-09-26 19:12:45</td>\n",
       "      <td>manir o daciolo foder glória deus</td>\n",
       "      <td>1.0</td>\n",
       "    </tr>\n",
       "    <tr>\n",
       "      <th>2</th>\n",
       "      <td>Porra Daciolo eu tinha até me emocionado com a declaração pra mamãe e esposa, agora tu mete essa de voto impresso meu consagrado? #DebateSBT</td>\n",
       "      <td>19</td>\n",
       "      <td>13</td>\n",
       "      <td>41</td>\n",
       "      <td>26</td>\n",
       "      <td>9</td>\n",
       "      <td>2018</td>\n",
       "      <td>2018-09-26 19:13:41</td>\n",
       "      <td>porra daciolo emocionar o declaração pra mamãe e esposo meter votar impresso consagrar debatesbt</td>\n",
       "      <td>-1.0</td>\n",
       "    </tr>\n",
       "    <tr>\n",
       "      <th>3</th>\n",
       "      <td>Daciolo falou pouco, mas falou bonito...</td>\n",
       "      <td>18</td>\n",
       "      <td>37</td>\n",
       "      <td>45</td>\n",
       "      <td>26</td>\n",
       "      <td>9</td>\n",
       "      <td>2018</td>\n",
       "      <td>2018-09-26 18:37:45</td>\n",
       "      <td>daciolo falar falar bonito</td>\n",
       "      <td>1.0</td>\n",
       "    </tr>\n",
       "    <tr>\n",
       "      <th>4</th>\n",
       "      <td>@morgalashnikova Eu n valorizei a grandeza desse candidato antes, mas agora eu percebi meu engano. 51 é só coisa boa, pinga e Daciolo</td>\n",
       "      <td>19</td>\n",
       "      <td>12</td>\n",
       "      <td>20</td>\n",
       "      <td>26</td>\n",
       "      <td>9</td>\n",
       "      <td>2018</td>\n",
       "      <td>2018-09-26 19:12:20</td>\n",
       "      <td>@morgalashnikova n valorizar o grandeza d candidatar antar perceber enganir 51 só pingar e daciolo</td>\n",
       "      <td>1.0</td>\n",
       "    </tr>\n",
       "  </tbody>\n",
       "</table>\n",
       "</div>"
      ],
      "text/plain": [
       "                                                                                                                                           text  \\\n",
       "0       \"foda-se a eleição, eu quero ver o jogo porrraaaaaaaaaaaaaaaaaaaaaaaaaaaaaaaaaaaaaaaaaaaaaaaaaaaaaaaaaaaaaaaaaaaaaaaaaaa\" - Álvaro Dias   \n",
       "1                                                                                                             MANO O DACIOLO É FODA GLÓRIA DEUS   \n",
       "2  Porra Daciolo eu tinha até me emocionado com a declaração pra mamãe e esposa, agora tu mete essa de voto impresso meu consagrado? #DebateSBT   \n",
       "3                                                                                                      Daciolo falou pouco, mas falou bonito...   \n",
       "4         @morgalashnikova Eu n valorizei a grandeza desse candidato antes, mas agora eu percebi meu engano. 51 é só coisa boa, pinga e Daciolo   \n",
       "\n",
       "   hour  minute  second  day  month  year             datetime  \\\n",
       "0    19      24      23   26      9  2018  2018-09-26 19:24:23   \n",
       "1    19      12      45   26      9  2018  2018-09-26 19:12:45   \n",
       "2    19      13      41   26      9  2018  2018-09-26 19:13:41   \n",
       "3    18      37      45   26      9  2018  2018-09-26 18:37:45   \n",
       "4    19      12      20   26      9  2018  2018-09-26 19:12:20   \n",
       "\n",
       "                                                                                                               text_clean  \\\n",
       "0  foder o eleição querer o jogar porrraaaaaaaaaaaaaaaaaaaaaaaaaaaaaaaaaaaaaaaaaaaaaaaaaaaaaaaaaaaaaaaaaaaaaaaaaaa álvaro   \n",
       "1                                                                                       manir o daciolo foder glória deus   \n",
       "2                        porra daciolo emocionar o declaração pra mamãe e esposo meter votar impresso consagrar debatesbt   \n",
       "3                                                                                              daciolo falar falar bonito   \n",
       "4                      @morgalashnikova n valorizar o grandeza d candidatar antar perceber enganir 51 só pingar e daciolo   \n",
       "\n",
       "   sentiment  \n",
       "0        0.0  \n",
       "1        1.0  \n",
       "2       -1.0  \n",
       "3        1.0  \n",
       "4        1.0  "
      ]
     },
     "execution_count": 134,
     "metadata": {},
     "output_type": "execute_result"
    }
   ],
   "source": [
    "full_tweets.head()"
   ]
  },
  {
   "cell_type": "markdown",
   "metadata": {},
   "source": [
    "- Criação de mais uma coluna para cada candidato onde assumirão os seguintes valores:\n",
    "    - -5, se o candidato não foi citado no tweet;\n",
    "    - -1, se o candidato foi citado no tweet e o tweet apresenta sentimento negativo;\n",
    "    - 0, se o candidato foi citado no tweet e o tweet apresenta sentimento neutro;\n",
    "    - 1, se o candidato foi citado no tweet e o tweet apresenta sentimento positivo."
   ]
  },
  {
   "cell_type": "code",
   "execution_count": 135,
   "metadata": {},
   "outputs": [],
   "source": [
    "nomes_candidatos = ['marina', 'haddad', 'boulos', 'meireles', 'daciolo', 'bolsonaro', 'alckmin', 'amoedo', 'álvaro']\n",
    "\n",
    "for candidato in nomes_candidatos:\n",
    "    candidato_sentiments = []\n",
    "    \n",
    "    for idx, row in enumerate(full_tweets['text']):\n",
    "        if candidato in row.lower():\n",
    "            candidato_sentiments.append(full_tweets.loc[idx, 'sentiment'])\n",
    "        else:\n",
    "            candidato_sentiments.append(-5)\n",
    "            \n",
    "    full_tweets[candidato] = candidato_sentiments"
   ]
  },
  {
   "cell_type": "code",
   "execution_count": 136,
   "metadata": {},
   "outputs": [
    {
     "data": {
      "text/html": [
       "<div>\n",
       "<style scoped>\n",
       "    .dataframe tbody tr th:only-of-type {\n",
       "        vertical-align: middle;\n",
       "    }\n",
       "\n",
       "    .dataframe tbody tr th {\n",
       "        vertical-align: top;\n",
       "    }\n",
       "\n",
       "    .dataframe thead th {\n",
       "        text-align: right;\n",
       "    }\n",
       "</style>\n",
       "<table border=\"1\" class=\"dataframe\">\n",
       "  <thead>\n",
       "    <tr style=\"text-align: right;\">\n",
       "      <th></th>\n",
       "      <th>text</th>\n",
       "      <th>hour</th>\n",
       "      <th>minute</th>\n",
       "      <th>second</th>\n",
       "      <th>day</th>\n",
       "      <th>month</th>\n",
       "      <th>year</th>\n",
       "      <th>datetime</th>\n",
       "      <th>text_clean</th>\n",
       "      <th>sentiment</th>\n",
       "      <th>marina</th>\n",
       "      <th>haddad</th>\n",
       "      <th>boulos</th>\n",
       "      <th>meireles</th>\n",
       "      <th>daciolo</th>\n",
       "      <th>bolsonaro</th>\n",
       "      <th>alckmin</th>\n",
       "      <th>amoedo</th>\n",
       "      <th>álvaro</th>\n",
       "    </tr>\n",
       "  </thead>\n",
       "  <tbody>\n",
       "    <tr>\n",
       "      <th>0</th>\n",
       "      <td>\"foda-se a eleição, eu quero ver o jogo porrraaaaaaaaaaaaaaaaaaaaaaaaaaaaaaaaaaaaaaaaaaaaaaaaaaaaaaaaaaaaaaaaaaaaaaaaaaa\" - Álvaro Dias</td>\n",
       "      <td>19</td>\n",
       "      <td>24</td>\n",
       "      <td>23</td>\n",
       "      <td>26</td>\n",
       "      <td>9</td>\n",
       "      <td>2018</td>\n",
       "      <td>2018-09-26 19:24:23</td>\n",
       "      <td>foder o eleição querer o jogar porrraaaaaaaaaaaaaaaaaaaaaaaaaaaaaaaaaaaaaaaaaaaaaaaaaaaaaaaaaaaaaaaaaaaaaaaaaaa álvaro</td>\n",
       "      <td>0.0</td>\n",
       "      <td>-5.0</td>\n",
       "      <td>-5.0</td>\n",
       "      <td>-5.0</td>\n",
       "      <td>-5.0</td>\n",
       "      <td>-5.0</td>\n",
       "      <td>-5.0</td>\n",
       "      <td>-5.0</td>\n",
       "      <td>-5.0</td>\n",
       "      <td>0.0</td>\n",
       "    </tr>\n",
       "    <tr>\n",
       "      <th>1</th>\n",
       "      <td>MANO O DACIOLO É FODA GLÓRIA DEUS</td>\n",
       "      <td>19</td>\n",
       "      <td>12</td>\n",
       "      <td>45</td>\n",
       "      <td>26</td>\n",
       "      <td>9</td>\n",
       "      <td>2018</td>\n",
       "      <td>2018-09-26 19:12:45</td>\n",
       "      <td>manir o daciolo foder glória deus</td>\n",
       "      <td>1.0</td>\n",
       "      <td>-5.0</td>\n",
       "      <td>-5.0</td>\n",
       "      <td>-5.0</td>\n",
       "      <td>-5.0</td>\n",
       "      <td>1.0</td>\n",
       "      <td>-5.0</td>\n",
       "      <td>-5.0</td>\n",
       "      <td>-5.0</td>\n",
       "      <td>-5.0</td>\n",
       "    </tr>\n",
       "    <tr>\n",
       "      <th>2</th>\n",
       "      <td>Porra Daciolo eu tinha até me emocionado com a declaração pra mamãe e esposa, agora tu mete essa de voto impresso meu consagrado? #DebateSBT</td>\n",
       "      <td>19</td>\n",
       "      <td>13</td>\n",
       "      <td>41</td>\n",
       "      <td>26</td>\n",
       "      <td>9</td>\n",
       "      <td>2018</td>\n",
       "      <td>2018-09-26 19:13:41</td>\n",
       "      <td>porra daciolo emocionar o declaração pra mamãe e esposo meter votar impresso consagrar debatesbt</td>\n",
       "      <td>-1.0</td>\n",
       "      <td>-5.0</td>\n",
       "      <td>-5.0</td>\n",
       "      <td>-5.0</td>\n",
       "      <td>-5.0</td>\n",
       "      <td>-1.0</td>\n",
       "      <td>-5.0</td>\n",
       "      <td>-5.0</td>\n",
       "      <td>-5.0</td>\n",
       "      <td>-5.0</td>\n",
       "    </tr>\n",
       "    <tr>\n",
       "      <th>3</th>\n",
       "      <td>Daciolo falou pouco, mas falou bonito...</td>\n",
       "      <td>18</td>\n",
       "      <td>37</td>\n",
       "      <td>45</td>\n",
       "      <td>26</td>\n",
       "      <td>9</td>\n",
       "      <td>2018</td>\n",
       "      <td>2018-09-26 18:37:45</td>\n",
       "      <td>daciolo falar falar bonito</td>\n",
       "      <td>1.0</td>\n",
       "      <td>-5.0</td>\n",
       "      <td>-5.0</td>\n",
       "      <td>-5.0</td>\n",
       "      <td>-5.0</td>\n",
       "      <td>1.0</td>\n",
       "      <td>-5.0</td>\n",
       "      <td>-5.0</td>\n",
       "      <td>-5.0</td>\n",
       "      <td>-5.0</td>\n",
       "    </tr>\n",
       "    <tr>\n",
       "      <th>4</th>\n",
       "      <td>@morgalashnikova Eu n valorizei a grandeza desse candidato antes, mas agora eu percebi meu engano. 51 é só coisa boa, pinga e Daciolo</td>\n",
       "      <td>19</td>\n",
       "      <td>12</td>\n",
       "      <td>20</td>\n",
       "      <td>26</td>\n",
       "      <td>9</td>\n",
       "      <td>2018</td>\n",
       "      <td>2018-09-26 19:12:20</td>\n",
       "      <td>@morgalashnikova n valorizar o grandeza d candidatar antar perceber enganir 51 só pingar e daciolo</td>\n",
       "      <td>1.0</td>\n",
       "      <td>-5.0</td>\n",
       "      <td>-5.0</td>\n",
       "      <td>-5.0</td>\n",
       "      <td>-5.0</td>\n",
       "      <td>1.0</td>\n",
       "      <td>-5.0</td>\n",
       "      <td>-5.0</td>\n",
       "      <td>-5.0</td>\n",
       "      <td>-5.0</td>\n",
       "    </tr>\n",
       "  </tbody>\n",
       "</table>\n",
       "</div>"
      ],
      "text/plain": [
       "                                                                                                                                           text  \\\n",
       "0       \"foda-se a eleição, eu quero ver o jogo porrraaaaaaaaaaaaaaaaaaaaaaaaaaaaaaaaaaaaaaaaaaaaaaaaaaaaaaaaaaaaaaaaaaaaaaaaaaa\" - Álvaro Dias   \n",
       "1                                                                                                             MANO O DACIOLO É FODA GLÓRIA DEUS   \n",
       "2  Porra Daciolo eu tinha até me emocionado com a declaração pra mamãe e esposa, agora tu mete essa de voto impresso meu consagrado? #DebateSBT   \n",
       "3                                                                                                      Daciolo falou pouco, mas falou bonito...   \n",
       "4         @morgalashnikova Eu n valorizei a grandeza desse candidato antes, mas agora eu percebi meu engano. 51 é só coisa boa, pinga e Daciolo   \n",
       "\n",
       "   hour  minute  second  day  month  year             datetime  \\\n",
       "0    19      24      23   26      9  2018  2018-09-26 19:24:23   \n",
       "1    19      12      45   26      9  2018  2018-09-26 19:12:45   \n",
       "2    19      13      41   26      9  2018  2018-09-26 19:13:41   \n",
       "3    18      37      45   26      9  2018  2018-09-26 18:37:45   \n",
       "4    19      12      20   26      9  2018  2018-09-26 19:12:20   \n",
       "\n",
       "                                                                                                               text_clean  \\\n",
       "0  foder o eleição querer o jogar porrraaaaaaaaaaaaaaaaaaaaaaaaaaaaaaaaaaaaaaaaaaaaaaaaaaaaaaaaaaaaaaaaaaaaaaaaaaa álvaro   \n",
       "1                                                                                       manir o daciolo foder glória deus   \n",
       "2                        porra daciolo emocionar o declaração pra mamãe e esposo meter votar impresso consagrar debatesbt   \n",
       "3                                                                                              daciolo falar falar bonito   \n",
       "4                      @morgalashnikova n valorizar o grandeza d candidatar antar perceber enganir 51 só pingar e daciolo   \n",
       "\n",
       "   sentiment  marina  haddad  boulos  meireles  daciolo  bolsonaro  alckmin  \\\n",
       "0        0.0    -5.0    -5.0    -5.0      -5.0     -5.0       -5.0     -5.0   \n",
       "1        1.0    -5.0    -5.0    -5.0      -5.0      1.0       -5.0     -5.0   \n",
       "2       -1.0    -5.0    -5.0    -5.0      -5.0     -1.0       -5.0     -5.0   \n",
       "3        1.0    -5.0    -5.0    -5.0      -5.0      1.0       -5.0     -5.0   \n",
       "4        1.0    -5.0    -5.0    -5.0      -5.0      1.0       -5.0     -5.0   \n",
       "\n",
       "   amoedo  álvaro  \n",
       "0    -5.0     0.0  \n",
       "1    -5.0    -5.0  \n",
       "2    -5.0    -5.0  \n",
       "3    -5.0    -5.0  \n",
       "4    -5.0    -5.0  "
      ]
     },
     "execution_count": 136,
     "metadata": {},
     "output_type": "execute_result"
    }
   ],
   "source": [
    "full_tweets.head()"
   ]
  },
  {
   "cell_type": "code",
   "execution_count": 137,
   "metadata": {},
   "outputs": [
    {
     "data": {
      "text/html": [
       "<div>\n",
       "<style scoped>\n",
       "    .dataframe tbody tr th:only-of-type {\n",
       "        vertical-align: middle;\n",
       "    }\n",
       "\n",
       "    .dataframe tbody tr th {\n",
       "        vertical-align: top;\n",
       "    }\n",
       "\n",
       "    .dataframe thead th {\n",
       "        text-align: right;\n",
       "    }\n",
       "</style>\n",
       "<table border=\"1\" class=\"dataframe\">\n",
       "  <thead>\n",
       "    <tr style=\"text-align: right;\">\n",
       "      <th></th>\n",
       "      <th>marina</th>\n",
       "      <th>haddad</th>\n",
       "      <th>boulos</th>\n",
       "      <th>meireles</th>\n",
       "      <th>daciolo</th>\n",
       "      <th>bolsonaro</th>\n",
       "      <th>alckmin</th>\n",
       "      <th>amoedo</th>\n",
       "      <th>álvaro</th>\n",
       "    </tr>\n",
       "  </thead>\n",
       "  <tbody>\n",
       "    <tr>\n",
       "      <th>0</th>\n",
       "      <td>-5.0</td>\n",
       "      <td>-5.0</td>\n",
       "      <td>-5.0</td>\n",
       "      <td>-5.0</td>\n",
       "      <td>-5.0</td>\n",
       "      <td>-5.0</td>\n",
       "      <td>-5.0</td>\n",
       "      <td>-5.0</td>\n",
       "      <td>0.0</td>\n",
       "    </tr>\n",
       "    <tr>\n",
       "      <th>1</th>\n",
       "      <td>-5.0</td>\n",
       "      <td>-5.0</td>\n",
       "      <td>-5.0</td>\n",
       "      <td>-5.0</td>\n",
       "      <td>1.0</td>\n",
       "      <td>-5.0</td>\n",
       "      <td>-5.0</td>\n",
       "      <td>-5.0</td>\n",
       "      <td>-5.0</td>\n",
       "    </tr>\n",
       "    <tr>\n",
       "      <th>2</th>\n",
       "      <td>-5.0</td>\n",
       "      <td>-5.0</td>\n",
       "      <td>-5.0</td>\n",
       "      <td>-5.0</td>\n",
       "      <td>-1.0</td>\n",
       "      <td>-5.0</td>\n",
       "      <td>-5.0</td>\n",
       "      <td>-5.0</td>\n",
       "      <td>-5.0</td>\n",
       "    </tr>\n",
       "    <tr>\n",
       "      <th>3</th>\n",
       "      <td>-5.0</td>\n",
       "      <td>-5.0</td>\n",
       "      <td>-5.0</td>\n",
       "      <td>-5.0</td>\n",
       "      <td>1.0</td>\n",
       "      <td>-5.0</td>\n",
       "      <td>-5.0</td>\n",
       "      <td>-5.0</td>\n",
       "      <td>-5.0</td>\n",
       "    </tr>\n",
       "    <tr>\n",
       "      <th>4</th>\n",
       "      <td>-5.0</td>\n",
       "      <td>-5.0</td>\n",
       "      <td>-5.0</td>\n",
       "      <td>-5.0</td>\n",
       "      <td>1.0</td>\n",
       "      <td>-5.0</td>\n",
       "      <td>-5.0</td>\n",
       "      <td>-5.0</td>\n",
       "      <td>-5.0</td>\n",
       "    </tr>\n",
       "  </tbody>\n",
       "</table>\n",
       "</div>"
      ],
      "text/plain": [
       "   marina  haddad  boulos  meireles  daciolo  bolsonaro  alckmin  amoedo  \\\n",
       "0    -5.0    -5.0    -5.0      -5.0     -5.0       -5.0     -5.0    -5.0   \n",
       "1    -5.0    -5.0    -5.0      -5.0      1.0       -5.0     -5.0    -5.0   \n",
       "2    -5.0    -5.0    -5.0      -5.0     -1.0       -5.0     -5.0    -5.0   \n",
       "3    -5.0    -5.0    -5.0      -5.0      1.0       -5.0     -5.0    -5.0   \n",
       "4    -5.0    -5.0    -5.0      -5.0      1.0       -5.0     -5.0    -5.0   \n",
       "\n",
       "   álvaro  \n",
       "0     0.0  \n",
       "1    -5.0  \n",
       "2    -5.0  \n",
       "3    -5.0  \n",
       "4    -5.0  "
      ]
     },
     "execution_count": 137,
     "metadata": {},
     "output_type": "execute_result"
    }
   ],
   "source": [
    "full_tweets.iloc[:, 10:].head()"
   ]
  },
  {
   "cell_type": "markdown",
   "metadata": {},
   "source": [
    "- Criação de um novo dataframe com a contagem dos sentimentos de cada tweet relacionado ao candidato mencionado:<br>\n",
    "    <sub>* A análise leva em consideração o sentimento em que a pessoa demonstrou ao escrever o tweet, pode não apresentar uma correlação com o sentimento em relação ao candidato.</sub>"
   ]
  },
  {
   "cell_type": "code",
   "execution_count": 138,
   "metadata": {},
   "outputs": [],
   "source": [
    "qtde_tweets = {}\n",
    "for candidato in nomes_candidatos:\n",
    "    positivos = len(full_tweets[full_tweets[candidato]==1][candidato])\n",
    "    neutros = len(full_tweets[full_tweets[candidato]==0][candidato])\n",
    "    negativos = len(full_tweets[full_tweets[candidato]==-1][candidato])\n",
    "    \n",
    "    qtde_tweets[candidato] = [positivos, neutros, negativos]"
   ]
  },
  {
   "cell_type": "code",
   "execution_count": 139,
   "metadata": {},
   "outputs": [
    {
     "data": {
      "text/html": [
       "<div>\n",
       "<style scoped>\n",
       "    .dataframe tbody tr th:only-of-type {\n",
       "        vertical-align: middle;\n",
       "    }\n",
       "\n",
       "    .dataframe tbody tr th {\n",
       "        vertical-align: top;\n",
       "    }\n",
       "\n",
       "    .dataframe thead th {\n",
       "        text-align: right;\n",
       "    }\n",
       "</style>\n",
       "<table border=\"1\" class=\"dataframe\">\n",
       "  <thead>\n",
       "    <tr style=\"text-align: right;\">\n",
       "      <th></th>\n",
       "      <th>positivos</th>\n",
       "      <th>neutros</th>\n",
       "      <th>negativos</th>\n",
       "      <th>total</th>\n",
       "    </tr>\n",
       "  </thead>\n",
       "  <tbody>\n",
       "    <tr>\n",
       "      <th>daciolo</th>\n",
       "      <td>48032</td>\n",
       "      <td>7019</td>\n",
       "      <td>5997</td>\n",
       "      <td>61048</td>\n",
       "    </tr>\n",
       "    <tr>\n",
       "      <th>haddad</th>\n",
       "      <td>12062</td>\n",
       "      <td>6360</td>\n",
       "      <td>11297</td>\n",
       "      <td>29719</td>\n",
       "    </tr>\n",
       "    <tr>\n",
       "      <th>marina</th>\n",
       "      <td>10179</td>\n",
       "      <td>3093</td>\n",
       "      <td>6151</td>\n",
       "      <td>19423</td>\n",
       "    </tr>\n",
       "    <tr>\n",
       "      <th>bolsonaro</th>\n",
       "      <td>2834</td>\n",
       "      <td>2918</td>\n",
       "      <td>6309</td>\n",
       "      <td>12061</td>\n",
       "    </tr>\n",
       "    <tr>\n",
       "      <th>boulos</th>\n",
       "      <td>6253</td>\n",
       "      <td>1978</td>\n",
       "      <td>2618</td>\n",
       "      <td>10849</td>\n",
       "    </tr>\n",
       "    <tr>\n",
       "      <th>alckmin</th>\n",
       "      <td>751</td>\n",
       "      <td>2635</td>\n",
       "      <td>4963</td>\n",
       "      <td>8349</td>\n",
       "    </tr>\n",
       "    <tr>\n",
       "      <th>álvaro</th>\n",
       "      <td>1990</td>\n",
       "      <td>640</td>\n",
       "      <td>2047</td>\n",
       "      <td>4677</td>\n",
       "    </tr>\n",
       "    <tr>\n",
       "      <th>meireles</th>\n",
       "      <td>427</td>\n",
       "      <td>513</td>\n",
       "      <td>530</td>\n",
       "      <td>1470</td>\n",
       "    </tr>\n",
       "    <tr>\n",
       "      <th>amoedo</th>\n",
       "      <td>258</td>\n",
       "      <td>488</td>\n",
       "      <td>330</td>\n",
       "      <td>1076</td>\n",
       "    </tr>\n",
       "  </tbody>\n",
       "</table>\n",
       "</div>"
      ],
      "text/plain": [
       "           positivos  neutros  negativos  total\n",
       "daciolo        48032     7019       5997  61048\n",
       "haddad         12062     6360      11297  29719\n",
       "marina         10179     3093       6151  19423\n",
       "bolsonaro       2834     2918       6309  12061\n",
       "boulos          6253     1978       2618  10849\n",
       "alckmin          751     2635       4963   8349\n",
       "álvaro          1990      640       2047   4677\n",
       "meireles         427      513        530   1470\n",
       "amoedo           258      488        330   1076"
      ]
     },
     "execution_count": 139,
     "metadata": {},
     "output_type": "execute_result"
    }
   ],
   "source": [
    "qtde_tweets_df = pd.DataFrame(qtde_tweets, index=['positivos', 'neutros', 'negativos']).T\n",
    "\n",
    "qtde_tweets_df['total'] = qtde_tweets_df.sum(axis=1)\n",
    "qtde_tweets_df = qtde_tweets_df.sort_values(by='total', ascending=False)\n",
    "qtde_tweets_df"
   ]
  },
  {
   "cell_type": "markdown",
   "metadata": {},
   "source": [
    "- Gráfico de análise de sentimento em relação a cada candidato mencionado:"
   ]
  },
  {
   "cell_type": "code",
   "execution_count": 143,
   "metadata": {},
   "outputs": [
    {
     "data": {
      "image/png": "[encoded data removed]",
      "text/plain": [
       "<Figure size 1080x576 with 1 Axes>"
      ]
     },
     "metadata": {},
     "output_type": "display_data"
    }
   ],
   "source": [
    "qtde_tweets_df.drop('total', axis=1).plot(kind='bar', stacked=True, colormap='coolwarm', figsize=(15,8));"
   ]
  }
 ],
 "metadata": {
  "kernelspec": {
   "display_name": "Python 3",
   "language": "python",
   "name": "python3"
  },
  "language_info": {
   "codemirror_mode": {
    "name": "ipython",
    "version": 3
   },
   "file_extension": ".py",
   "mimetype": "text/x-python",
   "name": "python",
   "nbconvert_exporter": "python",
   "pygments_lexer": "ipython3",
   "version": "3.6.6"
  }
 },
 "nbformat": 4,
 "nbformat_minor": 2
}
